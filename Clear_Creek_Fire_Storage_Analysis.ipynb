{
  "nbformat": 4,
  "nbformat_minor": 0,
  "metadata": {
    "colab": {
      "name": "Clear Creek Fire Storage Analysis_Final",
      "provenance": [],
      "include_colab_link": true
    },
    "kernelspec": {
      "display_name": "Python 3",
      "name": "python3"
    }
  },
  "cells": [
    {
      "cell_type": "markdown",
      "metadata": {
        "id": "view-in-github",
        "colab_type": "text"
      },
      "source": [
        "<a href=\"https://colab.research.google.com/github/ravenlanghorne/water_storage/blob/main/Clear_Creek_Fire_Storage_Analysis.ipynb\" target=\"_parent\"><img src=\"https://colab.research.google.com/assets/colab-badge.svg\" alt=\"Open In Colab\"/></a>"
      ]
    },
    {
      "cell_type": "markdown",
      "metadata": {
        "id": "NTZKww34qOIa"
      },
      "source": [
        "**Research Question: How do changes in vegetation impact catchment storage in Clear Creek?**\n",
        "\n",
        "To answer this question I will use the python code for Dralle et al. 2018 in [this](https://github.com/daviddralle/indirect_storage) github repository. "
      ]
    },
    {
      "cell_type": "markdown",
      "metadata": {
        "id": "dih8Ws6kWO-B"
      },
      "source": [
        "*Event:*\n",
        "2018 [Carr Fire](https://en.wikipedia.org/wiki/Carr_Fire)\n",
        "\n",
        "*Catchment:*\n",
        "Clear Creek [11372000](https://waterdata.usgs.gov/monitoring-location/11372000/#parameterCode=00060)\n"
      ]
    },
    {
      "cell_type": "markdown",
      "metadata": {
        "id": "lfxUDPmp02Zo"
      },
      "source": [
        "# Data Pulling"
      ]
    },
    {
      "cell_type": "code",
      "metadata": {
        "colab": {
          "base_uri": "https://localhost:8080/"
        },
        "id": "6DQMw1VeeNUd",
        "outputId": "c2b2ad7f-6786-4150-819b-afa523b9b10c"
      },
      "source": [
        "!pip install geopandas "
      ],
      "execution_count": null,
      "outputs": [
        {
          "output_type": "stream",
          "text": [
            "Collecting geopandas\n",
            "\u001b[?25l  Downloading https://files.pythonhosted.org/packages/d7/bf/e9cefb69d39155d122b6ddca53893b61535fa6ffdad70bf5ef708977f53f/geopandas-0.9.0-py2.py3-none-any.whl (994kB)\n",
            "\u001b[K     |████████████████████████████████| 1.0MB 4.9MB/s \n",
            "\u001b[?25hRequirement already satisfied: shapely>=1.6 in /usr/local/lib/python3.7/dist-packages (from geopandas) (1.7.1)\n",
            "Collecting pyproj>=2.2.0\n",
            "\u001b[?25l  Downloading https://files.pythonhosted.org/packages/b1/72/d52e9ca81caef056062d71991b0e9b1d16af042245627c5d0e4916a36c4f/pyproj-3.0.1-cp37-cp37m-manylinux2010_x86_64.whl (6.5MB)\n",
            "\u001b[K     |████████████████████████████████| 6.5MB 15.6MB/s \n",
            "\u001b[?25hRequirement already satisfied: pandas>=0.24.0 in /usr/local/lib/python3.7/dist-packages (from geopandas) (1.1.5)\n",
            "Collecting fiona>=1.8\n",
            "\u001b[?25l  Downloading https://files.pythonhosted.org/packages/ea/2a/404b22883298a3efe9c6ef8d67acbf2c38443fa366ee9cd4cd34e17626ea/Fiona-1.8.19-cp37-cp37m-manylinux1_x86_64.whl (15.3MB)\n",
            "\u001b[K     |████████████████████████████████| 15.3MB 244kB/s \n",
            "\u001b[?25hRequirement already satisfied: certifi in /usr/local/lib/python3.7/dist-packages (from pyproj>=2.2.0->geopandas) (2020.12.5)\n",
            "Requirement already satisfied: numpy>=1.15.4 in /usr/local/lib/python3.7/dist-packages (from pandas>=0.24.0->geopandas) (1.19.5)\n",
            "Requirement already satisfied: pytz>=2017.2 in /usr/local/lib/python3.7/dist-packages (from pandas>=0.24.0->geopandas) (2018.9)\n",
            "Requirement already satisfied: python-dateutil>=2.7.3 in /usr/local/lib/python3.7/dist-packages (from pandas>=0.24.0->geopandas) (2.8.1)\n",
            "Requirement already satisfied: attrs>=17 in /usr/local/lib/python3.7/dist-packages (from fiona>=1.8->geopandas) (21.2.0)\n",
            "Collecting click-plugins>=1.0\n",
            "  Downloading https://files.pythonhosted.org/packages/e9/da/824b92d9942f4e472702488857914bdd50f73021efea15b4cad9aca8ecef/click_plugins-1.1.1-py2.py3-none-any.whl\n",
            "Collecting cligj>=0.5\n",
            "  Downloading https://files.pythonhosted.org/packages/42/1e/947eadf10d6804bf276eb8a038bd5307996dceaaa41cfd21b7a15ec62f5d/cligj-0.7.1-py3-none-any.whl\n",
            "Requirement already satisfied: six>=1.7 in /usr/local/lib/python3.7/dist-packages (from fiona>=1.8->geopandas) (1.15.0)\n",
            "Collecting click<8,>=4.0\n",
            "\u001b[?25l  Downloading https://files.pythonhosted.org/packages/d2/3d/fa76db83bf75c4f8d338c2fd15c8d33fdd7ad23a9b5e57eb6c5de26b430e/click-7.1.2-py2.py3-none-any.whl (82kB)\n",
            "\u001b[K     |████████████████████████████████| 92kB 5.7MB/s \n",
            "\u001b[?25hCollecting munch\n",
            "  Downloading https://files.pythonhosted.org/packages/cc/ab/85d8da5c9a45e072301beb37ad7f833cd344e04c817d97e0cc75681d248f/munch-2.5.0-py2.py3-none-any.whl\n",
            "Installing collected packages: pyproj, click, click-plugins, cligj, munch, fiona, geopandas\n",
            "  Found existing installation: click 8.0.0\n",
            "    Uninstalling click-8.0.0:\n",
            "      Successfully uninstalled click-8.0.0\n",
            "Successfully installed click-7.1.2 click-plugins-1.1.1 cligj-0.7.1 fiona-1.8.19 geopandas-0.9.0 munch-2.5.0 pyproj-3.0.1\n"
          ],
          "name": "stdout"
        }
      ]
    },
    {
      "cell_type": "code",
      "metadata": {
        "id": "FuIx7ubyqoxC"
      },
      "source": [
        "import geopandas as gp\n",
        "import pandas as pd \n",
        "import numpy as np\n",
        "import matplotlib\n",
        "import matplotlib.pyplot as plt\n",
        "%matplotlib inline\n",
        "import os\n",
        "import sys\n",
        "import seaborn as sns\n",
        "from scipy.optimize import curve_fit\n",
        "import glob\n",
        "import pickle\n",
        "import scipy\n",
        "import matplotlib.dates as mdates\n",
        "import warnings\n",
        "warnings.filterwarnings('ignore')\n",
        "import datetime\n",
        "from sklearn.metrics import r2_score\n",
        "import datetime\n",
        "from google.colab import files\n"
      ],
      "execution_count": null,
      "outputs": []
    },
    {
      "cell_type": "code",
      "metadata": {
        "colab": {
          "base_uri": "https://localhost:8080/"
        },
        "id": "rh3GMOsQ3_s9",
        "outputId": "b3cf85cd-10f6-4d97-dd7a-eb7237842b77"
      },
      "source": [
        "# Import the Earth Engine API and initialize it.\n",
        "import ee\n",
        "ee.Authenticate()\n",
        "ee.Initialize()"
      ],
      "execution_count": null,
      "outputs": [
        {
          "output_type": "stream",
          "text": [
            "To authorize access needed by Earth Engine, open the following URL in a web browser and follow the instructions. If the web browser does not start automatically, please manually browse the URL below.\n",
            "\n",
            "    https://accounts.google.com/o/oauth2/auth?client_id=517222506229-vsmmajv00ul0bs7p89v5m89qs8eb9359.apps.googleusercontent.com&scope=https%3A%2F%2Fwww.googleapis.com%2Fauth%2Fearthengine+https%3A%2F%2Fwww.googleapis.com%2Fauth%2Fdevstorage.full_control&redirect_uri=urn%3Aietf%3Awg%3Aoauth%3A2.0%3Aoob&response_type=code&code_challenge=rrgl7ROb709oPFDYWeJCu9Wr4CnUTRrCVVGf8bYhUX8&code_challenge_method=S256\n",
            "\n",
            "The authorization workflow will generate a code, which you should paste in the box below. \n",
            "Enter verification code: 4/1AY0e-g4Psl8XYfIL6Ql6Yguhmc1gxs9VkOyQnE3A67lmMu9XOrQg9CUYos0\n",
            "\n",
            "Successfully saved authorization token.\n"
          ],
          "name": "stdout"
        }
      ]
    },
    {
      "cell_type": "code",
      "metadata": {
        "id": "J4tJRWzQ3TzP"
      },
      "source": [
        "#helper functions\n",
        "\n",
        "# Rainfall interception function\n",
        "def intercept_rain(ppt, interception_depth):\n",
        "    freq = ppt.index.freq\n",
        "    idx = ppt.index.copy()\n",
        "    prcp = ppt.copy()\n",
        "    precip_pre = ppt.ppt.resample('D').mean()+1e-12\n",
        "    precip_post = precip_pre.apply(lambda x: np.max([0,x-interception_depth])) \n",
        "    frac_int = (precip_pre.sum() - precip_post.sum())/precip_pre.sum()\n",
        "    print('Fraction intercepted = %.2f'%frac_int)\n",
        "    rng = pd.date_range(precip_post.index[0], precip_post.index[-1], freq=freq)\n",
        "    daily_multiplication_factor = precip_post/precip_pre\n",
        "    daily_multiplication_factor = pd.DataFrame({'factor':daily_multiplication_factor.resample(freq).ffill().tolist()},index=rng)\n",
        "    ppt.ppt = daily_multiplication_factor.factor*prcp.ppt\n",
        "    return ppt\n",
        "\n",
        "# Sensitivity function [see Kirchner, 2009] doi:10.1029/2008WR006912\n",
        "def g(q,p):\n",
        "    if np.size(np.array(q)) == 1: return np.exp(np.sum([p[i]*np.log(q)**(len(p)-i-1) for i in range(len(p))]))\n",
        "    return [np.exp(np.sum([p[i]*np.log(qq)**(len(p)-i-1) for i in range(len(p))])) for qq in np.array(q)]\n",
        "\n",
        "# Bin dq/dt data\n",
        "def KirchnerBinning(df, min_per_bin = 10, loud=False):\n",
        "    df = df.sort_values('q',ascending=False)\n",
        "    \n",
        "    logQ = np.array(np.log(df.q))\n",
        "    \n",
        "    logRange = np.max(logQ) - np.min(logQ)\n",
        "    minBinSize = logRange*.01\n",
        "  \n",
        "    binBoundaries = [0]\n",
        "    for i in range(1,len(df)):    \n",
        "        if abs(logQ[i] - logQ[binBoundaries[-1]]) < minBinSize: \n",
        "            if loud: print('Bin too small')\n",
        "            continue\n",
        "            \n",
        "        if abs(i-binBoundaries[-1]) < min_per_bin:\n",
        "            if loud: print('Not enough data points')\n",
        "            continue  \n",
        "            \n",
        "        curr = df.dq[binBoundaries[-1]:i]\n",
        "        if np.std(-curr)/np.sqrt(abs(i-binBoundaries[-1])) > np.mean(-curr)/2: \n",
        "            if loud: print('Bin too heterogeneous')\n",
        "            continue    \n",
        "        \n",
        "        binBoundaries.append(i)\n",
        "    return binBoundaries"
      ],
      "execution_count": null,
      "outputs": []
    },
    {
      "cell_type": "markdown",
      "metadata": {
        "id": "rqmp8IDjjqHX"
      },
      "source": [
        "### Loading in USGS Data"
      ]
    },
    {
      "cell_type": "code",
      "metadata": {
        "colab": {
          "base_uri": "https://localhost:8080/"
        },
        "id": "VtR6cFbQ2nST",
        "outputId": "acaca3c0-2edd-4c71-e156-4a11eda0e530"
      },
      "source": [
        "#Part 1\n",
        "#load in flow data\n",
        "#first we need to define the station number and the time interval we want to search\n",
        "site = '11372000' \n",
        "startyear=1988\n",
        "start = '1988-09-30'\n",
        "stopyear=2021 #you want to go one over the year you intend to stop at\n",
        "stop = '2020-12-04'\n",
        "\n",
        "#then we can construct the url \n",
        "url = 'https://waterdata.usgs.gov/nwis/dv?cb_00060=on&format=rdb&site_no=' + site + '&referred_module=sw&period=&begin_date='+start+'&end_date='+stop\n",
        "\n",
        "print(url)"
      ],
      "execution_count": null,
      "outputs": [
        {
          "output_type": "stream",
          "text": [
            "https://waterdata.usgs.gov/nwis/dv?cb_00060=on&format=rdb&site_no=11372000&referred_module=sw&period=&begin_date=1988-09-30&end_date=2020-12-04\n"
          ],
          "name": "stdout"
        }
      ]
    },
    {
      "cell_type": "code",
      "metadata": {
        "colab": {
          "base_uri": "https://localhost:8080/",
          "height": 391
        },
        "id": "EnavUqMme9C0",
        "outputId": "31a22722-905e-481d-c95b-2b4484414f3c"
      },
      "source": [
        "#get the basin upstream of the site\n",
        "basin = gp.read_file('https://labs.waterdata.usgs.gov/api/nldi/linked-data/nwissite/USGS-'+site+'/basin')\n",
        "\n",
        "#get all upstream with tributaries flowlines\n",
        "UT_flow=gp.read_file(\"https://labs.waterdata.usgs.gov/api/nldi/linked-data/nwissite/USGS-\"+site+\"/navigation/UT/flowlines?distance=999\")\n",
        "\n",
        "#get the upstream mainstem flowlines\n",
        "UM_flow=gp.read_file(\"https://labs.waterdata.usgs.gov/api/nldi/linked-data/nwissite/USGS-\"+site+\"/navigation/UM/flowlines?distance=999\")\n",
        "\n",
        "#get the downstream mainstem flowlines\n",
        "DM_flow = gp.read_file(\"https://labs.waterdata.usgs.gov/api/nldi/linked-data/nwissite/USGS-\"+site+\"/navigation/DM/flowlines?distance=999\")\n",
        "\n",
        "\n",
        "#plot\n",
        "f,ax = plt.subplots(1,figsize=(6,6))\n",
        "basin.plot(ec='k',fc='w',ax=ax)\n",
        "UM_flow.plot(ax=ax)"
      ],
      "execution_count": null,
      "outputs": [
        {
          "output_type": "execute_result",
          "data": {
            "text/plain": [
              "<matplotlib.axes._subplots.AxesSubplot at 0x7f4356780450>"
            ]
          },
          "metadata": {
            "tags": []
          },
          "execution_count": 8
        },
        {
          "output_type": "display_data",
          "data": {
            "image/png": "[encoded data removed]",
            "text/plain": [
              "<Figure size 432x432 with 1 Axes>"
            ]
          },
          "metadata": {
            "tags": [],
            "needs_background": "light"
          }
        }
      ]
    },
    {
      "cell_type": "code",
      "metadata": {
        "colab": {
          "base_uri": "https://localhost:8080/"
        },
        "id": "zGw6MOMeN52d",
        "outputId": "b01b7295-820a-42ff-c3d1-bfb76e5b5ed3"
      },
      "source": [
        "site_lat=basin.to_crs('epsg:4326').geometry[0].centroid.y\n",
        "site_lon=basin.to_crs('epsg:4326').geometry[0].centroid.x\n",
        "\n",
        "drainage_area=basin.to_crs('epsg:26910').geometry.area #how do you know original drainage area was in m2?\n",
        "print(drainage_area.values,'drainage area in m2')\n",
        "drainage_area_km2=drainage_area/(1000*1000)\n",
        "print(drainage_area_km2.values,'drainage area in km2')\n",
        "drainage_area_mm2=drainage_area*(1000*1000)\n",
        "print(drainage_area_mm2.values,'drainage area in mm2')"
      ],
      "execution_count": null,
      "outputs": [
        {
          "output_type": "stream",
          "text": [
            "[5.91536712e+08] drainage area in m2\n",
            "[591.53671231] drainage area in km2\n",
            "[5.91536712e+14] drainage area in mm2\n"
          ],
          "name": "stdout"
        }
      ]
    },
    {
      "cell_type": "code",
      "metadata": {
        "colab": {
          "base_uri": "https://localhost:8080/",
          "height": 235
        },
        "id": "G9Y59XCL2wxo",
        "outputId": "de8e9884-b8c7-47a6-95d9-98dbaa752d70"
      },
      "source": [
        "#Part 1 - Load in flow data \n",
        "#creating a flow (df) data frame\n",
        "\n",
        "#we can read the csv by simply using the pd.read_csv command.  In this case, we need to ignore the first 31 lines of the csv because it is part of the header. \n",
        "df = pd.read_csv(url, header=31, delim_whitespace=True)\n",
        "\n",
        "# we can name each of the columns in the dataset with our own names by using the command df.columns. note that you must have the same number of entries here as you do columns in your dataframe. \n",
        "df.columns = ['usgs', 'site_number', 'datetime', 'q', 'a'] #'b','c','d','e']\n",
        "\n",
        "#we need to convert the dates to a datetime format that python understands\n",
        "df['Date'] = pd.to_datetime(df.datetime)\n",
        "\n",
        "#finally, we can create a clean dataframe and name the columns with names we understand\n",
        "df = df[['q','Date']]\n",
        "\n",
        "df['q_cfs'] = df['q']\n",
        "df['q'] = df['q'].astype(float, errors='ignore')  #this is needed because sometimes there are non-numeric entries and we want to ignore them\n",
        "\n",
        "\n",
        "#converting to runoff\n",
        "df['q_mday']= (86400*df['q'])/(35.31*(drainage_area.values)) #m/day\n",
        "\n",
        "df['q_mmday']= (86400*df['q'])/((3.5e-8)*(drainage_area_mm2.values)) #mm/day\n",
        "\n",
        "df['q']=df['q_mday'] #we want final results in m/day\n",
        "\n",
        "df.set_index('Date',inplace=True) #pandas dataframes have an index column- for timeseries, we usually assign the datetime as the index \n",
        "\n",
        "df.head()"
      ],
      "execution_count": null,
      "outputs": [
        {
          "output_type": "execute_result",
          "data": {
            "text/html": [
              "<div>\n",
              "<style scoped>\n",
              "    .dataframe tbody tr th:only-of-type {\n",
              "        vertical-align: middle;\n",
              "    }\n",
              "\n",
              "    .dataframe tbody tr th {\n",
              "        vertical-align: top;\n",
              "    }\n",
              "\n",
              "    .dataframe thead th {\n",
              "        text-align: right;\n",
              "    }\n",
              "</style>\n",
              "<table border=\"1\" class=\"dataframe\">\n",
              "  <thead>\n",
              "    <tr style=\"text-align: right;\">\n",
              "      <th></th>\n",
              "      <th>q</th>\n",
              "      <th>q_cfs</th>\n",
              "      <th>q_mday</th>\n",
              "      <th>q_mmday</th>\n",
              "    </tr>\n",
              "    <tr>\n",
              "      <th>Date</th>\n",
              "      <th></th>\n",
              "      <th></th>\n",
              "      <th></th>\n",
              "      <th></th>\n",
              "    </tr>\n",
              "  </thead>\n",
              "  <tbody>\n",
              "    <tr>\n",
              "      <th>1988-10-02</th>\n",
              "      <td>0.000228</td>\n",
              "      <td>55.0</td>\n",
              "      <td>0.000228</td>\n",
              "      <td>0.229523</td>\n",
              "    </tr>\n",
              "    <tr>\n",
              "      <th>1988-10-03</th>\n",
              "      <td>0.000228</td>\n",
              "      <td>55.0</td>\n",
              "      <td>0.000228</td>\n",
              "      <td>0.229523</td>\n",
              "    </tr>\n",
              "    <tr>\n",
              "      <th>1988-10-04</th>\n",
              "      <td>0.000228</td>\n",
              "      <td>55.0</td>\n",
              "      <td>0.000228</td>\n",
              "      <td>0.229523</td>\n",
              "    </tr>\n",
              "    <tr>\n",
              "      <th>1988-10-05</th>\n",
              "      <td>0.000228</td>\n",
              "      <td>55.0</td>\n",
              "      <td>0.000228</td>\n",
              "      <td>0.229523</td>\n",
              "    </tr>\n",
              "    <tr>\n",
              "      <th>1988-10-06</th>\n",
              "      <td>0.000228</td>\n",
              "      <td>55.0</td>\n",
              "      <td>0.000228</td>\n",
              "      <td>0.229523</td>\n",
              "    </tr>\n",
              "  </tbody>\n",
              "</table>\n",
              "</div>"
            ],
            "text/plain": [
              "                   q  q_cfs    q_mday   q_mmday\n",
              "Date                                           \n",
              "1988-10-02  0.000228   55.0  0.000228  0.229523\n",
              "1988-10-03  0.000228   55.0  0.000228  0.229523\n",
              "1988-10-04  0.000228   55.0  0.000228  0.229523\n",
              "1988-10-05  0.000228   55.0  0.000228  0.229523\n",
              "1988-10-06  0.000228   55.0  0.000228  0.229523"
            ]
          },
          "metadata": {
            "tags": []
          },
          "execution_count": 10
        }
      ]
    },
    {
      "cell_type": "code",
      "metadata": {
        "colab": {
          "base_uri": "https://localhost:8080/"
        },
        "id": "_NAdUScRVWc2",
        "outputId": "7627bbd8-541e-4d6f-af40-2f745e511c94"
      },
      "source": [
        "df['q'].mean()"
      ],
      "execution_count": null,
      "outputs": [
        {
          "output_type": "execute_result",
          "data": {
            "text/plain": [
              "0.0009296321249875536"
            ]
          },
          "metadata": {
            "tags": []
          },
          "execution_count": 14
        }
      ]
    },
    {
      "cell_type": "markdown",
      "metadata": {
        "id": "rwbzqJ9dj_Si"
      },
      "source": [
        "### Loading in Prism Data"
      ]
    },
    {
      "cell_type": "code",
      "metadata": {
        "id": "Vzby2YkcgGhk"
      },
      "source": [
        "#pulling coords\n",
        "coords = [item for item in basin.geometry[0].exterior.coords]\n",
        "gee_feat = ee.Feature(ee.Geometry.Polygon(coords))\n",
        "gee_feat = gee_feat.set('Site',1)\n",
        "fts_list = [gee_feat]\n",
        "fts = ee.FeatureCollection(fts_list)"
      ],
      "execution_count": null,
      "outputs": []
    },
    {
      "cell_type": "markdown",
      "metadata": {
        "id": "gIOQaa9ocghF"
      },
      "source": [
        "Daily Prism"
      ]
    },
    {
      "cell_type": "code",
      "metadata": {
        "id": "jcIukPFdcfev"
      },
      "source": [
        "#fts = ee.FeatureCollection(fts_list[0:2])\n",
        "\n",
        "def extract(image):\n",
        "        val = image.reduceRegions(fts, ee.Reducer.mean())\n",
        "        return val\n",
        "\n",
        "def get_prism(minyear, maxyear, variable):\n",
        "    dfs = []\n",
        "    for year in range(minyear, maxyear):\n",
        "      print('Getting year %s'%str(year))\n",
        "      for month in range(1,13):\n",
        "        start = (\n",
        "          pd.to_datetime(str(year) + '-' + str(month)) - pd.to_timedelta(1,unit='D')\n",
        "        ).strftime('%Y-%m-%d')\n",
        "        if month==12:\n",
        "          stop = (\n",
        "            pd.to_datetime(str(year+1) + '-' + str(1)) - pd.to_timedelta(1,unit='D')\n",
        "          ).strftime('%Y-%m-%d')\n",
        "        else:\n",
        "          stop = (\n",
        "            pd.to_datetime(str(year) + '-' + str(month+1)) - pd.to_timedelta(1,unit='D')\n",
        "          ).strftime('%Y-%m-%d')\n",
        "\n",
        "        prism = ee.ImageCollection('OREGONSTATE/PRISM/AN81d').select(variable).filterDate(start, stop)\n",
        "        extracted = prism.map(extract).flatten().getInfo()\n",
        "        sites = []\n",
        "        vals = []\n",
        "        dates = []\n",
        "        for feat in extracted['features']:\n",
        "            site = feat['properties']['Site']\n",
        "            try:\n",
        "                val = feat['properties']['mean']\n",
        "            except:\n",
        "                val = np.nan\n",
        "            date = pd.to_datetime(feat['id'].split('_')[0])\n",
        "            sites.append(site), vals.append(val), dates.append(date)     \n",
        "        df = pd.DataFrame(vals, index=dates, columns=[variable])\n",
        "        df['site'] = sites\n",
        "        df = df.pivot(columns='site')\n",
        "        dfs.append(df)\n",
        "    prism = pd.concat(dfs)\n",
        "    return prism[variable]\n",
        "\n"
      ],
      "execution_count": null,
      "outputs": []
    },
    {
      "cell_type": "code",
      "metadata": {
        "colab": {
          "base_uri": "https://localhost:8080/"
        },
        "id": "haV0GakGEJXG",
        "outputId": "f772e00c-8bed-4fc0-af23-2f95ecc99e3c"
      },
      "source": [
        "stopyear"
      ],
      "execution_count": null,
      "outputs": [
        {
          "output_type": "execute_result",
          "data": {
            "text/plain": [
              "2021"
            ]
          },
          "metadata": {
            "tags": []
          },
          "execution_count": 12
        }
      ]
    },
    {
      "cell_type": "code",
      "metadata": {
        "colab": {
          "base_uri": "https://localhost:8080/",
          "height": 1000
        },
        "id": "rwn53ypJD5v2",
        "outputId": "43188d4c-bf68-43f9-a6dd-75a5ef565e9e"
      },
      "source": [
        "#pulling variables\n",
        "\n",
        "variable = 'ppt'\n",
        "ppt_prism = get_prism(startyear, stopyear, variable)\n",
        "\n",
        "variable = 'tmean'\n",
        "tmean = get_prism(startyear, stopyear, variable)\n",
        "\n",
        "variable = 'tmax'\n",
        "tmax = get_prism(startyear, stopyear, variable)\n",
        "\n",
        "variable = 'tmin'\n",
        "tmin = get_prism(startyear, stopyear, variable)\n",
        "ppt_prism.tail()"
      ],
      "execution_count": null,
      "outputs": [
        {
          "output_type": "stream",
          "text": [
            "Getting year 1988\n",
            "Getting year 1989\n",
            "Getting year 1990\n",
            "Getting year 1991\n",
            "Getting year 1992\n",
            "Getting year 1993\n",
            "Getting year 1994\n",
            "Getting year 1995\n",
            "Getting year 1996\n",
            "Getting year 1997\n",
            "Getting year 1998\n",
            "Getting year 1999\n",
            "Getting year 2000\n",
            "Getting year 2001\n",
            "Getting year 2002\n",
            "Getting year 2003\n",
            "Getting year 2004\n",
            "Getting year 2005\n",
            "Getting year 2006\n",
            "Getting year 2007\n",
            "Getting year 2008\n",
            "Getting year 2009\n",
            "Getting year 2010\n",
            "Getting year 2011\n",
            "Getting year 2012\n",
            "Getting year 2013\n",
            "Getting year 2014\n",
            "Getting year 2015\n",
            "Getting year 2016\n",
            "Getting year 2017\n",
            "Getting year 2018\n",
            "Getting year 2019\n",
            "Getting year 2020\n",
            "Getting year 1988\n",
            "Getting year 1989\n",
            "Getting year 1990\n",
            "Getting year 1991\n",
            "Getting year 1992\n",
            "Getting year 1993\n",
            "Getting year 1994\n",
            "Getting year 1995\n",
            "Getting year 1996\n",
            "Getting year 1997\n",
            "Getting year 1998\n",
            "Getting year 1999\n",
            "Getting year 2000\n",
            "Getting year 2001\n",
            "Getting year 2002\n",
            "Getting year 2003\n",
            "Getting year 2004\n",
            "Getting year 2005\n",
            "Getting year 2006\n",
            "Getting year 2007\n",
            "Getting year 2008\n",
            "Getting year 2009\n",
            "Getting year 2010\n",
            "Getting year 2011\n",
            "Getting year 2012\n",
            "Getting year 2013\n",
            "Getting year 2014\n",
            "Getting year 2015\n",
            "Getting year 2016\n",
            "Getting year 2017\n",
            "Getting year 2018\n",
            "Getting year 2019\n",
            "Getting year 2020\n",
            "Getting year 1988\n",
            "Getting year 1989\n",
            "Getting year 1990\n",
            "Getting year 1991\n",
            "Getting year 1992\n",
            "Getting year 1993\n",
            "Getting year 1994\n",
            "Getting year 1995\n",
            "Getting year 1996\n",
            "Getting year 1997\n",
            "Getting year 1998\n",
            "Getting year 1999\n",
            "Getting year 2000\n",
            "Getting year 2001\n",
            "Getting year 2002\n",
            "Getting year 2003\n",
            "Getting year 2004\n",
            "Getting year 2005\n",
            "Getting year 2006\n",
            "Getting year 2007\n",
            "Getting year 2008\n",
            "Getting year 2009\n",
            "Getting year 2010\n",
            "Getting year 2011\n",
            "Getting year 2012\n",
            "Getting year 2013\n",
            "Getting year 2014\n",
            "Getting year 2015\n",
            "Getting year 2016\n",
            "Getting year 2017\n",
            "Getting year 2018\n",
            "Getting year 2019\n",
            "Getting year 2020\n",
            "Getting year 1988\n",
            "Getting year 1989\n",
            "Getting year 1990\n",
            "Getting year 1991\n",
            "Getting year 1992\n",
            "Getting year 1993\n",
            "Getting year 1994\n",
            "Getting year 1995\n",
            "Getting year 1996\n",
            "Getting year 1997\n",
            "Getting year 1998\n",
            "Getting year 1999\n",
            "Getting year 2000\n",
            "Getting year 2001\n",
            "Getting year 2002\n",
            "Getting year 2003\n",
            "Getting year 2004\n",
            "Getting year 2005\n",
            "Getting year 2006\n",
            "Getting year 2007\n",
            "Getting year 2008\n",
            "Getting year 2009\n",
            "Getting year 2010\n",
            "Getting year 2011\n",
            "Getting year 2012\n",
            "Getting year 2013\n",
            "Getting year 2014\n",
            "Getting year 2015\n",
            "Getting year 2016\n",
            "Getting year 2017\n",
            "Getting year 2018\n",
            "Getting year 2019\n",
            "Getting year 2020\n"
          ],
          "name": "stdout"
        },
        {
          "output_type": "execute_result",
          "data": {
            "text/html": [
              "<div>\n",
              "<style scoped>\n",
              "    .dataframe tbody tr th:only-of-type {\n",
              "        vertical-align: middle;\n",
              "    }\n",
              "\n",
              "    .dataframe tbody tr th {\n",
              "        vertical-align: top;\n",
              "    }\n",
              "\n",
              "    .dataframe thead th {\n",
              "        text-align: right;\n",
              "    }\n",
              "</style>\n",
              "<table border=\"1\" class=\"dataframe\">\n",
              "  <thead>\n",
              "    <tr style=\"text-align: right;\">\n",
              "      <th>site</th>\n",
              "      <th>1</th>\n",
              "    </tr>\n",
              "  </thead>\n",
              "  <tbody>\n",
              "    <tr>\n",
              "      <th>2020-12-21</th>\n",
              "      <td>0.000000</td>\n",
              "    </tr>\n",
              "    <tr>\n",
              "      <th>2020-12-22</th>\n",
              "      <td>0.444881</td>\n",
              "    </tr>\n",
              "    <tr>\n",
              "      <th>2020-12-23</th>\n",
              "      <td>0.000000</td>\n",
              "    </tr>\n",
              "    <tr>\n",
              "      <th>2020-12-24</th>\n",
              "      <td>0.000000</td>\n",
              "    </tr>\n",
              "    <tr>\n",
              "      <th>2020-12-25</th>\n",
              "      <td>0.000000</td>\n",
              "    </tr>\n",
              "  </tbody>\n",
              "</table>\n",
              "</div>"
            ],
            "text/plain": [
              "site               1\n",
              "2020-12-21  0.000000\n",
              "2020-12-22  0.444881\n",
              "2020-12-23  0.000000\n",
              "2020-12-24  0.000000\n",
              "2020-12-25  0.000000"
            ]
          },
          "metadata": {
            "tags": []
          },
          "execution_count": 13
        }
      ]
    },
    {
      "cell_type": "code",
      "metadata": {
        "colab": {
          "base_uri": "https://localhost:8080/"
        },
        "id": "hSbIkKZHlBph",
        "outputId": "326dab35-aeea-413a-ff32-49ec4885850b"
      },
      "source": [
        "ppt_prism.columns = ['ppt'] #in mm/day\n",
        "\n",
        "ppt_prism.index"
      ],
      "execution_count": null,
      "outputs": [
        {
          "output_type": "execute_result",
          "data": {
            "text/plain": [
              "DatetimeIndex(['1988-01-01', '1988-01-02', '1988-01-03', '1988-01-04',\n",
              "               '1988-01-05', '1988-01-06', '1988-01-07', '1988-01-08',\n",
              "               '1988-01-09', '1988-01-10',\n",
              "               ...\n",
              "               '2020-12-16', '2020-12-17', '2020-12-18', '2020-12-19',\n",
              "               '2020-12-20', '2020-12-21', '2020-12-22', '2020-12-23',\n",
              "               '2020-12-24', '2020-12-25'],\n",
              "              dtype='datetime64[ns]', length=12048, freq=None)"
            ]
          },
          "metadata": {
            "tags": []
          },
          "execution_count": 14
        }
      ]
    },
    {
      "cell_type": "markdown",
      "metadata": {
        "id": "ShbOKAdwn3vG"
      },
      "source": [
        "### Calculating Daily PET"
      ]
    },
    {
      "cell_type": "markdown",
      "metadata": {
        "id": "Whvqk8ewqMBg"
      },
      "source": [
        "Hargreave and Samani 1985: Equation:\n",
        "\n",
        "Ep = 0.0023 · (Tmean + 17.8)·(Tmax − Tmin)^0.5 · 0.408 · Rext"
      ]
    },
    {
      "cell_type": "markdown",
      "metadata": {
        "id": "AnHAHiHssfWf"
      },
      "source": [
        "Rext = Exterrestrial radiation [MJ m-2 day-1] (Allen et al 1998)\n",
        "\n",
        "Equation:\n",
        "Ra = 1440/pi(Gsc)(dr)[ws*sin(ϕ)*sin(δ)+cos(ϕ)*cos(δ)*sin(ws)]"
      ]
    },
    {
      "cell_type": "code",
      "metadata": {
        "colab": {
          "base_uri": "https://localhost:8080/"
        },
        "id": "KCu3-Da92TAe",
        "outputId": "42ecece3-1682-4475-e695-bb59a94a96c8"
      },
      "source": [
        "site_lat"
      ],
      "execution_count": null,
      "outputs": [
        {
          "output_type": "execute_result",
          "data": {
            "text/plain": [
              "40.72287430486206"
            ]
          },
          "metadata": {
            "tags": []
          },
          "execution_count": 15
        }
      ]
    },
    {
      "cell_type": "code",
      "metadata": {
        "colab": {
          "base_uri": "https://localhost:8080/",
          "height": 419
        },
        "id": "3B2flDnhn8qb",
        "outputId": "1ca73f74-0cfb-4ac4-b8ef-e7be73afe416"
      },
      "source": [
        "#Ra =  Extraterrestrial solar radiation \n",
        "\n",
        "#making a dataframe to store all the variables\n",
        "Rext = pd.DataFrame(columns = ['J','dr','d','ws','Ra'])\n",
        "\n",
        "#latitudes: 40°30'48 in degrees and minutes\n",
        "dec_deg = site_lat\n",
        "\n",
        "#j (ϕ) in radians\n",
        "j = (np.pi/180)*(dec_deg)\n",
        "\n",
        "Gsc = 0.0820 #MJ m-2 day -1\n",
        "\n",
        "#julian days\n",
        "Rext.J = np.linspace(1,365,365) \n",
        "\n",
        "#inverse relative distance Earth-Sun, dr\n",
        "Rext.dr = 1+0.033*np.cos(((2*np.pi)/365)*Rext.J)\n",
        "\n",
        "#solar declination δ (aka d)\n",
        "Rext.d = 0.409*np.sin(((2*np.pi)/365)*Rext.J-1.39)\n",
        "\n",
        "#sunset hour angle\n",
        "Rext.ws = np.arccos(-np.tan(j)*np.tan(Rext.d))\n",
        "\n",
        "Rext.Ra = (1440/np.pi)*(Gsc*Rext.dr)*(Rext.ws*np.sin(j)*np.sin(Rext.d)+np.cos(j)*np.cos(Rext.d)*np.sin(Rext.ws))\n",
        "\n",
        "Rext\n"
      ],
      "execution_count": null,
      "outputs": [
        {
          "output_type": "execute_result",
          "data": {
            "text/html": [
              "<div>\n",
              "<style scoped>\n",
              "    .dataframe tbody tr th:only-of-type {\n",
              "        vertical-align: middle;\n",
              "    }\n",
              "\n",
              "    .dataframe tbody tr th {\n",
              "        vertical-align: top;\n",
              "    }\n",
              "\n",
              "    .dataframe thead th {\n",
              "        text-align: right;\n",
              "    }\n",
              "</style>\n",
              "<table border=\"1\" class=\"dataframe\">\n",
              "  <thead>\n",
              "    <tr style=\"text-align: right;\">\n",
              "      <th></th>\n",
              "      <th>J</th>\n",
              "      <th>dr</th>\n",
              "      <th>d</th>\n",
              "      <th>ws</th>\n",
              "      <th>Ra</th>\n",
              "    </tr>\n",
              "  </thead>\n",
              "  <tbody>\n",
              "    <tr>\n",
              "      <th>0</th>\n",
              "      <td>1.0</td>\n",
              "      <td>1.032995</td>\n",
              "      <td>-0.401008</td>\n",
              "      <td>1.197189</td>\n",
              "      <td>13.384862</td>\n",
              "    </tr>\n",
              "    <tr>\n",
              "      <th>1</th>\n",
              "      <td>2.0</td>\n",
              "      <td>1.032980</td>\n",
              "      <td>-0.399564</td>\n",
              "      <td>1.198763</td>\n",
              "      <td>13.440460</td>\n",
              "    </tr>\n",
              "    <tr>\n",
              "      <th>2</th>\n",
              "      <td>3.0</td>\n",
              "      <td>1.032956</td>\n",
              "      <td>-0.398001</td>\n",
              "      <td>1.200463</td>\n",
              "      <td>13.500540</td>\n",
              "    </tr>\n",
              "    <tr>\n",
              "      <th>3</th>\n",
              "      <td>4.0</td>\n",
              "      <td>1.032922</td>\n",
              "      <td>-0.396320</td>\n",
              "      <td>1.202287</td>\n",
              "      <td>13.565092</td>\n",
              "    </tr>\n",
              "    <tr>\n",
              "      <th>4</th>\n",
              "      <td>5.0</td>\n",
              "      <td>1.032878</td>\n",
              "      <td>-0.394522</td>\n",
              "      <td>1.204235</td>\n",
              "      <td>13.634103</td>\n",
              "    </tr>\n",
              "    <tr>\n",
              "      <th>...</th>\n",
              "      <td>...</td>\n",
              "      <td>...</td>\n",
              "      <td>...</td>\n",
              "      <td>...</td>\n",
              "      <td>...</td>\n",
              "    </tr>\n",
              "    <tr>\n",
              "      <th>360</th>\n",
              "      <td>361.0</td>\n",
              "      <td>1.032922</td>\n",
              "      <td>-0.406440</td>\n",
              "      <td>1.191242</td>\n",
              "      <td>13.174424</td>\n",
              "    </tr>\n",
              "    <tr>\n",
              "      <th>361</th>\n",
              "      <td>362.0</td>\n",
              "      <td>1.032956</td>\n",
              "      <td>-0.405594</td>\n",
              "      <td>1.192172</td>\n",
              "      <td>13.207480</td>\n",
              "    </tr>\n",
              "    <tr>\n",
              "      <th>362</th>\n",
              "      <td>363.0</td>\n",
              "      <td>1.032980</td>\n",
              "      <td>-0.404627</td>\n",
              "      <td>1.193232</td>\n",
              "      <td>13.245058</td>\n",
              "    </tr>\n",
              "    <tr>\n",
              "      <th>363</th>\n",
              "      <td>364.0</td>\n",
              "      <td>1.032995</td>\n",
              "      <td>-0.403540</td>\n",
              "      <td>1.194422</td>\n",
              "      <td>13.287153</td>\n",
              "    </tr>\n",
              "    <tr>\n",
              "      <th>364</th>\n",
              "      <td>365.0</td>\n",
              "      <td>1.033000</td>\n",
              "      <td>-0.402334</td>\n",
              "      <td>1.195741</td>\n",
              "      <td>13.333757</td>\n",
              "    </tr>\n",
              "  </tbody>\n",
              "</table>\n",
              "<p>365 rows × 5 columns</p>\n",
              "</div>"
            ],
            "text/plain": [
              "         J        dr         d        ws         Ra\n",
              "0      1.0  1.032995 -0.401008  1.197189  13.384862\n",
              "1      2.0  1.032980 -0.399564  1.198763  13.440460\n",
              "2      3.0  1.032956 -0.398001  1.200463  13.500540\n",
              "3      4.0  1.032922 -0.396320  1.202287  13.565092\n",
              "4      5.0  1.032878 -0.394522  1.204235  13.634103\n",
              "..     ...       ...       ...       ...        ...\n",
              "360  361.0  1.032922 -0.406440  1.191242  13.174424\n",
              "361  362.0  1.032956 -0.405594  1.192172  13.207480\n",
              "362  363.0  1.032980 -0.404627  1.193232  13.245058\n",
              "363  364.0  1.032995 -0.403540  1.194422  13.287153\n",
              "364  365.0  1.033000 -0.402334  1.195741  13.333757\n",
              "\n",
              "[365 rows x 5 columns]"
            ]
          },
          "metadata": {
            "tags": []
          },
          "execution_count": 16
        }
      ]
    },
    {
      "cell_type": "code",
      "metadata": {
        "colab": {
          "base_uri": "https://localhost:8080/",
          "height": 419
        },
        "id": "hpb-v9ks6D9d",
        "outputId": "65407689-e890-49c5-80fb-0195abf8f5e8"
      },
      "source": [
        "tmin.columns = ['tmin']\n",
        "tmax.columns = ['tmax']\n",
        "tmean.columns = ['tmean']\n",
        "pet_prism = tmin.merge(tmax, how = 'outer', left_index=True, right_index=True)\n",
        "pet_prism  = pet_prism.merge(tmean, how = 'outer', left_index=True, right_index=True)\n",
        "pet_prism "
      ],
      "execution_count": null,
      "outputs": [
        {
          "output_type": "execute_result",
          "data": {
            "text/html": [
              "<div>\n",
              "<style scoped>\n",
              "    .dataframe tbody tr th:only-of-type {\n",
              "        vertical-align: middle;\n",
              "    }\n",
              "\n",
              "    .dataframe tbody tr th {\n",
              "        vertical-align: top;\n",
              "    }\n",
              "\n",
              "    .dataframe thead th {\n",
              "        text-align: right;\n",
              "    }\n",
              "</style>\n",
              "<table border=\"1\" class=\"dataframe\">\n",
              "  <thead>\n",
              "    <tr style=\"text-align: right;\">\n",
              "      <th></th>\n",
              "      <th>tmin</th>\n",
              "      <th>tmax</th>\n",
              "      <th>tmean</th>\n",
              "    </tr>\n",
              "  </thead>\n",
              "  <tbody>\n",
              "    <tr>\n",
              "      <th>1988-01-01</th>\n",
              "      <td>-5.097724</td>\n",
              "      <td>5.084715</td>\n",
              "      <td>-0.006391</td>\n",
              "    </tr>\n",
              "    <tr>\n",
              "      <th>1988-01-02</th>\n",
              "      <td>-3.786037</td>\n",
              "      <td>5.803752</td>\n",
              "      <td>1.008454</td>\n",
              "    </tr>\n",
              "    <tr>\n",
              "      <th>1988-01-03</th>\n",
              "      <td>-0.752765</td>\n",
              "      <td>4.492470</td>\n",
              "      <td>1.869349</td>\n",
              "    </tr>\n",
              "    <tr>\n",
              "      <th>1988-01-04</th>\n",
              "      <td>0.326357</td>\n",
              "      <td>4.290282</td>\n",
              "      <td>2.307908</td>\n",
              "    </tr>\n",
              "    <tr>\n",
              "      <th>1988-01-05</th>\n",
              "      <td>0.100827</td>\n",
              "      <td>5.621068</td>\n",
              "      <td>2.860459</td>\n",
              "    </tr>\n",
              "    <tr>\n",
              "      <th>...</th>\n",
              "      <td>...</td>\n",
              "      <td>...</td>\n",
              "      <td>...</td>\n",
              "    </tr>\n",
              "    <tr>\n",
              "      <th>2020-12-21</th>\n",
              "      <td>4.660036</td>\n",
              "      <td>13.405093</td>\n",
              "      <td>9.032517</td>\n",
              "    </tr>\n",
              "    <tr>\n",
              "      <th>2020-12-22</th>\n",
              "      <td>1.860324</td>\n",
              "      <td>12.128595</td>\n",
              "      <td>6.994401</td>\n",
              "    </tr>\n",
              "    <tr>\n",
              "      <th>2020-12-23</th>\n",
              "      <td>0.721330</td>\n",
              "      <td>8.345927</td>\n",
              "      <td>4.533585</td>\n",
              "    </tr>\n",
              "    <tr>\n",
              "      <th>2020-12-24</th>\n",
              "      <td>1.338046</td>\n",
              "      <td>11.025198</td>\n",
              "      <td>6.181565</td>\n",
              "    </tr>\n",
              "    <tr>\n",
              "      <th>2020-12-25</th>\n",
              "      <td>1.922199</td>\n",
              "      <td>11.162720</td>\n",
              "      <td>6.542401</td>\n",
              "    </tr>\n",
              "  </tbody>\n",
              "</table>\n",
              "<p>12048 rows × 3 columns</p>\n",
              "</div>"
            ],
            "text/plain": [
              "                tmin       tmax     tmean\n",
              "1988-01-01 -5.097724   5.084715 -0.006391\n",
              "1988-01-02 -3.786037   5.803752  1.008454\n",
              "1988-01-03 -0.752765   4.492470  1.869349\n",
              "1988-01-04  0.326357   4.290282  2.307908\n",
              "1988-01-05  0.100827   5.621068  2.860459\n",
              "...              ...        ...       ...\n",
              "2020-12-21  4.660036  13.405093  9.032517\n",
              "2020-12-22  1.860324  12.128595  6.994401\n",
              "2020-12-23  0.721330   8.345927  4.533585\n",
              "2020-12-24  1.338046  11.025198  6.181565\n",
              "2020-12-25  1.922199  11.162720  6.542401\n",
              "\n",
              "[12048 rows x 3 columns]"
            ]
          },
          "metadata": {
            "tags": []
          },
          "execution_count": 17
        }
      ]
    },
    {
      "cell_type": "code",
      "metadata": {
        "colab": {
          "base_uri": "https://localhost:8080/",
          "height": 419
        },
        "id": "iXFLyt8m88US",
        "outputId": "7b83f011-f25a-460d-bfdc-4d641b37c4e2"
      },
      "source": [
        "#calculating pet using Hargreaves equation\n",
        "#used 13.5 means Ra for the year\n",
        "pet_prism ['pet']= 0.0023 *(pet_prism.tmean + 17.8)*(pet_prism.tmax - pet_prism.tmin)**0.5 * 0.408 * 13.5\n",
        "pet_prism  #in mm/day"
      ],
      "execution_count": null,
      "outputs": [
        {
          "output_type": "execute_result",
          "data": {
            "text/html": [
              "<div>\n",
              "<style scoped>\n",
              "    .dataframe tbody tr th:only-of-type {\n",
              "        vertical-align: middle;\n",
              "    }\n",
              "\n",
              "    .dataframe tbody tr th {\n",
              "        vertical-align: top;\n",
              "    }\n",
              "\n",
              "    .dataframe thead th {\n",
              "        text-align: right;\n",
              "    }\n",
              "</style>\n",
              "<table border=\"1\" class=\"dataframe\">\n",
              "  <thead>\n",
              "    <tr style=\"text-align: right;\">\n",
              "      <th></th>\n",
              "      <th>tmin</th>\n",
              "      <th>tmax</th>\n",
              "      <th>tmean</th>\n",
              "      <th>pet</th>\n",
              "    </tr>\n",
              "  </thead>\n",
              "  <tbody>\n",
              "    <tr>\n",
              "      <th>1988-01-01</th>\n",
              "      <td>-5.097724</td>\n",
              "      <td>5.084715</td>\n",
              "      <td>-0.006391</td>\n",
              "      <td>0.719303</td>\n",
              "    </tr>\n",
              "    <tr>\n",
              "      <th>1988-01-02</th>\n",
              "      <td>-3.786037</td>\n",
              "      <td>5.803752</td>\n",
              "      <td>1.008454</td>\n",
              "      <td>0.737869</td>\n",
              "    </tr>\n",
              "    <tr>\n",
              "      <th>1988-01-03</th>\n",
              "      <td>-0.752765</td>\n",
              "      <td>4.492470</td>\n",
              "      <td>1.869349</td>\n",
              "      <td>0.570682</td>\n",
              "    </tr>\n",
              "    <tr>\n",
              "      <th>1988-01-04</th>\n",
              "      <td>0.326357</td>\n",
              "      <td>4.290282</td>\n",
              "      <td>2.307908</td>\n",
              "      <td>0.507167</td>\n",
              "    </tr>\n",
              "    <tr>\n",
              "      <th>1988-01-05</th>\n",
              "      <td>0.100827</td>\n",
              "      <td>5.621068</td>\n",
              "      <td>2.860459</td>\n",
              "      <td>0.614951</td>\n",
              "    </tr>\n",
              "    <tr>\n",
              "      <th>...</th>\n",
              "      <td>...</td>\n",
              "      <td>...</td>\n",
              "      <td>...</td>\n",
              "      <td>...</td>\n",
              "    </tr>\n",
              "    <tr>\n",
              "      <th>2020-12-21</th>\n",
              "      <td>4.660036</td>\n",
              "      <td>13.405093</td>\n",
              "      <td>9.032517</td>\n",
              "      <td>1.005228</td>\n",
              "    </tr>\n",
              "    <tr>\n",
              "      <th>2020-12-22</th>\n",
              "      <td>1.860324</td>\n",
              "      <td>12.128595</td>\n",
              "      <td>6.994401</td>\n",
              "      <td>1.006524</td>\n",
              "    </tr>\n",
              "    <tr>\n",
              "      <th>2020-12-23</th>\n",
              "      <td>0.721330</td>\n",
              "      <td>8.345927</td>\n",
              "      <td>4.533585</td>\n",
              "      <td>0.781248</td>\n",
              "    </tr>\n",
              "    <tr>\n",
              "      <th>2020-12-24</th>\n",
              "      <td>1.338046</td>\n",
              "      <td>11.025198</td>\n",
              "      <td>6.181565</td>\n",
              "      <td>0.945578</td>\n",
              "    </tr>\n",
              "    <tr>\n",
              "      <th>2020-12-25</th>\n",
              "      <td>1.922199</td>\n",
              "      <td>11.162720</td>\n",
              "      <td>6.542401</td>\n",
              "      <td>0.937418</td>\n",
              "    </tr>\n",
              "  </tbody>\n",
              "</table>\n",
              "<p>12048 rows × 4 columns</p>\n",
              "</div>"
            ],
            "text/plain": [
              "                tmin       tmax     tmean       pet\n",
              "1988-01-01 -5.097724   5.084715 -0.006391  0.719303\n",
              "1988-01-02 -3.786037   5.803752  1.008454  0.737869\n",
              "1988-01-03 -0.752765   4.492470  1.869349  0.570682\n",
              "1988-01-04  0.326357   4.290282  2.307908  0.507167\n",
              "1988-01-05  0.100827   5.621068  2.860459  0.614951\n",
              "...              ...        ...       ...       ...\n",
              "2020-12-21  4.660036  13.405093  9.032517  1.005228\n",
              "2020-12-22  1.860324  12.128595  6.994401  1.006524\n",
              "2020-12-23  0.721330   8.345927  4.533585  0.781248\n",
              "2020-12-24  1.338046  11.025198  6.181565  0.945578\n",
              "2020-12-25  1.922199  11.162720  6.542401  0.937418\n",
              "\n",
              "[12048 rows x 4 columns]"
            ]
          },
          "metadata": {
            "tags": []
          },
          "execution_count": 18
        }
      ]
    },
    {
      "cell_type": "code",
      "metadata": {
        "colab": {
          "base_uri": "https://localhost:8080/"
        },
        "id": "jZ7PzM2E2-XP",
        "outputId": "89aa4af1-5929-40aa-b333-4d54ffcb2aea"
      },
      "source": [
        "ppt_prism.index\n",
        "pet_prism.index\n",
        "df.index"
      ],
      "execution_count": null,
      "outputs": [
        {
          "output_type": "execute_result",
          "data": {
            "text/plain": [
              "DatetimeIndex(['1988-10-01', '1988-10-02', '1988-10-03', '1988-10-04',\n",
              "               '1988-10-05', '1988-10-06', '1988-10-07', '1988-10-08',\n",
              "               '1988-10-09', '1988-10-10',\n",
              "               ...\n",
              "               '2020-11-25', '2020-11-26', '2020-11-27', '2020-11-28',\n",
              "               '2020-11-29', '2020-11-30', '2020-12-01', '2020-12-02',\n",
              "               '2020-12-03', '2020-12-04'],\n",
              "              dtype='datetime64[ns]', name='Date', length=11753, freq=None)"
            ]
          },
          "metadata": {
            "tags": []
          },
          "execution_count": 19
        }
      ]
    },
    {
      "cell_type": "markdown",
      "metadata": {
        "id": "DTycx0pT1P1O"
      },
      "source": [
        "### Converting units"
      ]
    },
    {
      "cell_type": "code",
      "metadata": {
        "id": "jW53KQe_1DF1"
      },
      "source": [
        "#converting units to m/day original units in mm/day\n",
        "\n",
        "ppt=ppt_prism/1000 #in m/day\n",
        "\n",
        "pet=pet_prism/1000 #in m/day"
      ],
      "execution_count": null,
      "outputs": []
    },
    {
      "cell_type": "code",
      "metadata": {
        "id": "lqBSK25u4OrW"
      },
      "source": [
        "#creating copy dataframe for reference dataframe\n",
        "ppt2=ppt.copy()\n",
        "pet2=pet.copy()\n"
      ],
      "execution_count": null,
      "outputs": []
    },
    {
      "cell_type": "markdown",
      "metadata": {
        "id": "pqrxXKD1A3XF"
      },
      "source": [
        "### Downloading Data"
      ]
    },
    {
      "cell_type": "code",
      "metadata": {
        "id": "tvliQe9cA65k"
      },
      "source": [
        "#ppt.to_csv('./CCppt.csv')\n",
        "#files.download('./CCppt.csv')\n",
        "\n",
        "#df.to_csv('./CCq.csv')\n",
        "#files.download('./CCq.csv')\n",
        "\n",
        "\n",
        "#pet.to_csv('./CCpet.csv')\n",
        "#files.download('./CCpet.csv')"
      ],
      "execution_count": null,
      "outputs": []
    },
    {
      "cell_type": "code",
      "metadata": {
        "id": "HscsvWw47M5U"
      },
      "source": [
        "# Reload rainfall and PET\n",
        "# Load rainfall and flow data\n",
        "# ppt = pd.read_csv('/content/eppt.csv')\n",
        "# df = pd.read_csv('/content/eq.csv')\n",
        "# pet = pd.read_csv('/content/epet.csv')\n",
        "\n",
        "\n",
        "# #cleaning up dataframes\n",
        "# pet.columns=['Datetime', 'tmin', 'tmax', 'tmean', 'pet']\n",
        "# ppt.columns=['Datetime', 'ppt']\n",
        "# df.columns=['Datetime', 'q']\n",
        "# df.set_index('Datetime',inplace=True)\n",
        "# ppt.set_index('Datetime',inplace=True)\n",
        "# pet.set_index('Datetime',inplace=True)"
      ],
      "execution_count": null,
      "outputs": []
    },
    {
      "cell_type": "markdown",
      "metadata": {
        "id": "ddvz_pelBk35"
      },
      "source": [
        "#Conducting Analysis"
      ]
    },
    {
      "cell_type": "markdown",
      "metadata": {
        "id": "JCut-A5k3RFV"
      },
      "source": [
        ""
      ]
    },
    {
      "cell_type": "code",
      "metadata": {
        "id": "cHHPCJpkJiYz",
        "colab": {
          "base_uri": "https://localhost:8080/",
          "height": 296
        },
        "outputId": "de12196c-534f-45e2-8870-d1690ad1fdb1"
      },
      "source": [
        "df.q.plot()\n",
        "pet.pet.plot()\n",
        "ppt.ppt.plot()"
      ],
      "execution_count": null,
      "outputs": [
        {
          "output_type": "execute_result",
          "data": {
            "text/plain": [
              "<matplotlib.axes._subplots.AxesSubplot at 0x7f95357aeb70>"
            ]
          },
          "metadata": {
            "tags": []
          },
          "execution_count": 24
        },
        {
          "output_type": "display_data",
          "data": {
            "image/png": "[encoded data removed]",
            "text/plain": [
              "<Figure size 432x288 with 1 Axes>"
            ]
          },
          "metadata": {
            "tags": [],
            "needs_background": "light"
          }
        }
      ]
    },
    {
      "cell_type": "code",
      "metadata": {
        "id": "CQssqwOn3WQK"
      },
      "source": [
        "#recession analysis\n",
        "\n",
        "# Lag in days after neglible rainfall before analysis starts\n",
        "rainfall_lag = 1.0\n",
        "mean_fraction = 0.001\n",
        "\n",
        "# Keep tabs on rainfall total of previous rainfall_lag days\n",
        "rainfall_lag *= (24*60*60.)\n",
        "\n",
        "# Resample to daily for this analysis\n",
        "freq = '1D'\n",
        "ppt = ppt.resample(freq).mean()\n",
        "df = df.resample(freq).mean()\n",
        "x = df.index.freq\n",
        "num_secs = x.delta.days*(60*60*24) + x.delta.seconds\n",
        "dt = num_secs/(24.*60*60)\n",
        "lag = int(rainfall_lag/num_secs)\n",
        "meanQ = np.mean(df.q)\n",
        "\n",
        "# Lists to store q and its derivative\n",
        "dqs = []\n",
        "qs = []\n",
        "years = list(set(ppt.index.year))\n",
        "years.sort()\n",
        "for year in years:\n",
        "  \n",
        "        \n",
        "    # Only use winter month recessions\n",
        "    startdate = '11-' + str(year)\n",
        "    enddate = '3-' + str(year+1)\n",
        "    rain = np.array(ppt.ppt.loc[startdate:enddate])\n",
        "    runoff = np.array(df.q.loc[startdate:enddate])\n",
        "    i = lag\n",
        "    while i<len(rain):\n",
        "        # Too much rain\n",
        "        if np.sum(dt*rain[i-lag:i+1]) > .002:\n",
        "            i+=1\n",
        "            continue\n",
        "\n",
        "        # We have found period of negligible rainfall \n",
        "        # Find index of next day of rainfall \n",
        "        idx_next_rain = np.where(rain[i+1:]>0)[0]\n",
        "        if len(idx_next_rain)>0:\n",
        "            idx_next_rain = idx_next_rain[0] + (i+1)\n",
        "        else: \n",
        "            # no more rain for this particular year\n",
        "            break\n",
        "        \n",
        "        # too short of a rainless period for analysis \n",
        "        if idx_next_rain==i+1: \n",
        "            i += 2\n",
        "            continue\n",
        "        \n",
        "        # get dq/dt going forward, not including the next day of rainfall\n",
        "        for j in range(i, idx_next_rain):\n",
        "            q_diffs = runoff[j] - runoff[j+1:idx_next_rain]\n",
        "            idx_end = np.where(q_diffs>mean_fraction*meanQ)[0]\n",
        "            if len(idx_end)>0:\n",
        "                idx_end = idx_end[0]\n",
        "                qs.append((runoff[j] + runoff[j+idx_end+1])/2)\n",
        "                dqs.append((runoff[j+idx_end+1]-runoff[j])/(dt*(idx_end+1)))\n",
        "            else:\n",
        "                i = idx_next_rain + lag + 1\n",
        "                break \n",
        "        i = idx_next_rain + lag + 1\n",
        "   "
      ],
      "execution_count": null,
      "outputs": []
    },
    {
      "cell_type": "code",
      "metadata": {
        "id": "YY96aroeJ1qm",
        "colab": {
          "base_uri": "https://localhost:8080/",
          "height": 225
        },
        "outputId": "0f6d1e45-3a50-457c-ec62-17c2d43b4959"
      },
      "source": [
        "qs = np.array(qs)\n",
        "dqs = np.array(dqs)    \n",
        "qs = np.array(qs)\n",
        "dqs = np.array(dqs)\n",
        "df_kirchner = pd.DataFrame({'q':qs, 'dq':dqs})\n",
        "df_kirchner = df_kirchner.sort_values('q',ascending=False)\n",
        "binBoundaries = KirchnerBinning(df_kirchner, min_per_bin=7)\n",
        "qs = [np.mean(df_kirchner.q[binBoundaries[i]:binBoundaries[i+1]]) for i in range(len(binBoundaries)-1)]\n",
        "dqs =   np.array([np.mean(df_kirchner.dq[binBoundaries[i]:binBoundaries[i+1]]) for i in range(len(binBoundaries)-1)])\n",
        "sigmas = np.array([np.std(np.log(-df_kirchner.dq[binBoundaries[i]:binBoundaries[i+1]].loc[df_kirchner.dq[binBoundaries[i]:binBoundaries[i+1]]<0]))/np.sqrt(binBoundaries[i+1]-binBoundaries[i]) for i in range(len(binBoundaries)-1)]) + 1e-12\n",
        "p = np.polyfit(x=np.log(qs), y=np.log(-dqs), deg=2, w=1/sigmas**2)\n",
        "f = plt.figure(figsize=(4,3))\n",
        "plt.errorbar(np.log(qs), np.log(-dqs), yerr = sigmas,fmt='o',capsize=2,**{'ms':2, 'mfc':'k','zorder':1})\n",
        "x = np.log(qs)\n",
        "coefficient_of_dermination = r2_score(np.log(-dqs), p[2] + p[1]*x + p[0]*x**2)\n",
        "plt.plot(x, p[2] + p[1]*x + p[0]*x**2,lw=2, label='$\\mathrm{R^2}$ = %.2f'%coefficient_of_dermination,zorder=10)\n",
        "p[1] = p[1]-1\n",
        "plt.xlabel('log(Q)')\n",
        "leg = plt.legend(fontsize=10,loc='best')\n",
        "leg.set_frame_on(False)\n",
        "#plt.ylim([-12,-5])\n",
        "#plt.xlim([-9.1,-4])\n",
        "plt.title('Clear Creek',fontsize=12)\n",
        "ax = f.get_axes()[0]\n",
        "plt.ylabel(r'$\\log \\left( -\\mathrm{\\frac{dQ}{dt}}\\right)$')\n",
        "plt.tight_layout()\n",
        "# plt.savefig('./figures/dqdt_vs_q_clearcreek.pdf')"
      ],
      "execution_count": null,
      "outputs": [
        {
          "output_type": "display_data",
          "data": {
            "image/png": "[encoded data removed]",
            "text/plain": [
              "<Figure size 288x216 with 1 Axes>"
            ]
          },
          "metadata": {
            "tags": [],
            "needs_background": "light"
          }
        }
      ]
    },
    {
      "cell_type": "code",
      "metadata": {
        "id": "qhv_itwV4_98",
        "colab": {
          "base_uri": "https://localhost:8080/"
        },
        "outputId": "a3aabf90-4b62-4083-d2c9-d64b2a9ce64c"
      },
      "source": [
        "ppt = ppt2.resample(freq).mean()\n",
        "pet = pet.resample(freq).mean()\n",
        "\n",
        "# simple interception model; 4mm/day at Clear Creek\n",
        "interception_depth = 0.004\n",
        "ppt = intercept_rain(ppt, interception_depth)"
      ],
      "execution_count": null,
      "outputs": [
        {
          "output_type": "stream",
          "text": [
            "Fraction intercepted = 0.22\n"
          ],
          "name": "stdout"
        }
      ]
    },
    {
      "cell_type": "code",
      "metadata": {
        "id": "8LeA1ul34Tnt"
      },
      "source": [
        "# Now use sensitivity function to compute direct storage time series for each year\n",
        "years = list(set(df.index.year))\n",
        "years.sort()\n",
        "df['direct_storage'] = 0 \n",
        "for year in years: \n",
        "    startDate = '10-01-' + str(year)\n",
        "    endDate = '9-30-' + str(year+1)\n",
        "    thisYear = df.loc[startDate:endDate]\n",
        "    if len(thisYear)<100:\n",
        "        continue\n",
        "    # cumulative integral of dynamic storage for this water year, assuming we start at 0        \n",
        "    qvar = thisYear.q.tolist()\n",
        "    direct_S = [0]\n",
        "    for i in range(1,len(qvar)):\n",
        "        qi = qvar[i]\n",
        "        qi1 = qvar[i-1]\n",
        "        qintegrate = np.linspace(qi1, qi, 5)\n",
        "        direct_S.append(direct_S[i-1] + np.trapz([1/gg for gg in g(qintegrate,p)],qintegrate))\n",
        "        if direct_S[i] < 0: \n",
        "            direct_S[i] = 0\n",
        "    df['direct_storage'].loc[startDate:endDate] = direct_S"
      ],
      "execution_count": null,
      "outputs": []
    },
    {
      "cell_type": "code",
      "metadata": {
        "id": "5gtnFYEP46mQ"
      },
      "source": [
        "df['indirect_storage'] = 0\n",
        "df['total'] = 0\n",
        "annualmax_indirect = []\n",
        "annualmax_direct = []\n",
        "maxyears = []\n",
        "for year in years[:-1]: \n",
        "    startDate = '10-1-' + str(year)\n",
        "    endDate = '6-1-' + str(year+1)\n",
        "    idx = ppt.ppt.loc[startDate:endDate].index\n",
        "    thisYear = df.loc[idx]\n",
        "    petYear = pet.pet.loc[idx].values\n",
        "    direct_year = df['direct_storage'].loc[idx].values\n",
        "    cumQ = np.array(dt*thisYear.q.cumsum())\n",
        "    rain = np.array(ppt.ppt.loc[idx].ffill())\n",
        "    cumRain = np.array(dt*ppt.ppt.loc[idx].ffill().cumsum())\n",
        "    indirect_year = np.zeros(np.shape(cumRain))\n",
        "    \n",
        "    for i in range(1,len(indirect_year)):\n",
        "        iyt = cumRain[i] - cumQ[i] - np.cumsum(petYear*dt)[i] - direct_year[i]\n",
        "        if iyt<0:\n",
        "            petYear[i] = 0\n",
        "        indirect_year[i] = cumRain[i] - cumQ[i] - np.cumsum(petYear*dt)[i] - direct_year[i]\n",
        "    total = cumRain - cumQ - np.cumsum(petYear)*dt\n",
        "    indirect_year_df = pd.DataFrame(indirect_year, index=idx).resample('D').mean()\n",
        "    direct_year_df = pd.DataFrame(direct_year, index=idx).resample('D').mean()\n",
        "    maxyears.append(year+1)\n",
        "    df['indirect_storage'].loc[idx] = indirect_year\n",
        "    df['total'].loc[idx] = total\n",
        "    annualmax_indirect.append(np.max(indirect_year))\n",
        "    annualmax_direct.append(np.max(direct_year))\n",
        "\n",
        "df = df*1000.0 #in mm\n",
        "annualmax_indirect = 1000*np.array(annualmax_indirect)\n",
        "annualmax_direct = 1000*np.array(annualmax_direct)"
      ],
      "execution_count": null,
      "outputs": []
    },
    {
      "cell_type": "code",
      "metadata": {
        "id": "gpjExz5XIp6_",
        "colab": {
          "base_uri": "https://localhost:8080/",
          "height": 296
        },
        "outputId": "fca989e8-f0d5-47e6-e611-84efb69a7c42"
      },
      "source": [
        "df['indirect_storage'].plot()"
      ],
      "execution_count": null,
      "outputs": [
        {
          "output_type": "execute_result",
          "data": {
            "text/plain": [
              "<matplotlib.axes._subplots.AxesSubplot at 0x7f9535b5ee48>"
            ]
          },
          "metadata": {
            "tags": []
          },
          "execution_count": 30
        },
        {
          "output_type": "display_data",
          "data": {
            "image/png": "[encoded data removed]",
            "text/plain": [
              "<Figure size 432x288 with 1 Axes>"
            ]
          },
          "metadata": {
            "tags": [],
            "needs_background": "light"
          }
        }
      ]
    },
    {
      "cell_type": "code",
      "metadata": {
        "id": "NVIiqT3JI531",
        "colab": {
          "base_uri": "https://localhost:8080/",
          "height": 296
        },
        "outputId": "db59543f-2c46-46b8-e003-d4855dcfa93b"
      },
      "source": [
        "df['direct_storage'].plot()"
      ],
      "execution_count": null,
      "outputs": [
        {
          "output_type": "execute_result",
          "data": {
            "text/plain": [
              "<matplotlib.axes._subplots.AxesSubplot at 0x7f95355250b8>"
            ]
          },
          "metadata": {
            "tags": []
          },
          "execution_count": 31
        },
        {
          "output_type": "display_data",
          "data": {
            "image/png": "[encoded data removed]",
            "text/plain": [
              "<Figure size 432x288 with 1 Axes>"
            ]
          },
          "metadata": {
            "tags": [],
            "needs_background": "light"
          }
        }
      ]
    },
    {
      "cell_type": "code",
      "metadata": {
        "id": "ufyLlfmq7MPj",
        "colab": {
          "base_uri": "https://localhost:8080/",
          "height": 296
        },
        "outputId": "68768e96-5222-43e2-9890-b37233adf43e"
      },
      "source": [
        "df['q'].plot()\n",
        "ppt['ppt'].plot()\n",
        "pet['pet'].plot"
      ],
      "execution_count": null,
      "outputs": [
        {
          "output_type": "execute_result",
          "data": {
            "text/plain": [
              "<pandas.plotting._core.PlotAccessor object at 0x7f95351a7710>"
            ]
          },
          "metadata": {
            "tags": []
          },
          "execution_count": 32
        },
        {
          "output_type": "display_data",
          "data": {
            "image/png": "[encoded data removed]",
            "text/plain": [
              "<Figure size 432x288 with 1 Axes>"
            ]
          },
          "metadata": {
            "tags": [],
            "needs_background": "light"
          }
        }
      ]
    },
    {
      "cell_type": "markdown",
      "metadata": {
        "id": "t3SFQh43Kisd"
      },
      "source": [
        "# Making Graphs"
      ]
    },
    {
      "cell_type": "code",
      "metadata": {
        "id": "32qqtDYL6k5O",
        "colab": {
          "base_uri": "https://localhost:8080/",
          "height": 297
        },
        "outputId": "737be278-6fed-4075-9f4a-9a209f5f6e14"
      },
      "source": [
        "start_date = '10-2017'\n",
        "end_date = '4-2018'\n",
        "uselog = True\n",
        "f, (ax1) = plt.subplots(1,figsize=(6.5,4))\n",
        "labels = []\n",
        "df.indirect_storage.plot(style='--',linewidth=1.5, ax=ax1)\n",
        "labels.append('Indirect storage ($\\mathrm{S}_\\mathrm{i}$)')\n",
        "df.direct_storage.plot(linewidth=1.5, ax=ax1)\n",
        "labels.append('Direct storage ($\\mathrm{S}_\\mathrm{d}$)')\n",
        "df.total.plot(linewidth=1.5, ax=ax1, alpha=0.3)\n",
        "labels.append('Total ($\\mathrm{S}_\\mathrm{T}$)')\n",
        "\n",
        "pcumulative = ppt.ppt.loc[start_date:end_date].cumsum()*dt*1000\n",
        "qcumulative = df.q.loc[start_date:end_date].cumsum()*dt\n",
        "pcumulative.plot(style=':', lw=1.5)\n",
        "labels.append('$\\sum P$')\n",
        "qcumulative.plot(style='-.', lw=1.5)\n",
        "labels.append('$\\sum Q$')\n",
        "\n",
        "ax1.set_xlim([start_date,end_date])\n",
        "if uselog:\n",
        "    ax1.set_yscale('log')\n",
        "    ax1.set_ylim([1e-1,1e4])\n",
        "    ax1.yaxis.set_major_formatter(matplotlib.ticker.FormatStrFormatter(\"%.1f\"))\n",
        "    ax1.yaxis.grid(which=\"minor\", color='k', linestyle='-', linewidth=0.5, alpha=0.1)\n",
        "else:\n",
        "    ax1.set_ylim([0,2000])\n",
        "    ax1.grid(**{'ls':'--', 'lw':0.3})\n",
        "\n",
        "\n",
        "ax1.set_title('Clear Creek')\n",
        "\n",
        "leg = ax1.legend(labels, loc='upper left', ncol=2)\n",
        "leg.set_frame_on(False)\n",
        "ax1.set_ylabel('[mm]')\n",
        "ax1.set_xlabel('')\n",
        "f.autofmt_xdate()\n",
        "plt.tight_layout()\n",
        "#plt.savefig('./figures/clearcreek' + start_date + '_' + end_date + '.pdf')"
      ],
      "execution_count": null,
      "outputs": [
        {
          "output_type": "display_data",
          "data": {
            "image/png": "[encoded data removed]",
            "text/plain": [
              "<Figure size 468x288 with 1 Axes>"
            ]
          },
          "metadata": {
            "tags": [],
            "needs_background": "light"
          }
        }
      ]
    },
    {
      "cell_type": "code",
      "metadata": {
        "id": "IoAN6tuv5uBx",
        "colab": {
          "base_uri": "https://localhost:8080/",
          "height": 297
        },
        "outputId": "6df00a9b-2930-47f0-f4eb-59ff702af72b"
      },
      "source": [
        "start_date = '10-2019'\n",
        "end_date = '4-2020'\n",
        "uselog = True\n",
        "f, (ax1) = plt.subplots(1,figsize=(6.5,4))\n",
        "labels = []\n",
        "df.indirect_storage.plot(style='--',linewidth=1.5, ax=ax1)\n",
        "labels.append('Indirect storage ($\\mathrm{S}_\\mathrm{i}$)')\n",
        "df.direct_storage.plot(linewidth=1.5, ax=ax1)\n",
        "labels.append('Direct storage ($\\mathrm{S}_\\mathrm{d}$)')\n",
        "df.total.plot(linewidth=1.5, ax=ax1, alpha=0.3)\n",
        "labels.append('Total ($\\mathrm{S}_\\mathrm{T}$)')\n",
        "\n",
        "pcumulative = ppt.ppt.loc[start_date:end_date].cumsum()*dt*1000\n",
        "qcumulative = df.q.loc[start_date:end_date].cumsum()*dt\n",
        "pcumulative.plot(style=':', lw=1.5)\n",
        "labels.append('$\\sum P$')\n",
        "qcumulative.plot(style='-.', lw=1.5)\n",
        "labels.append('$\\sum Q$')\n",
        "\n",
        "ax1.set_xlim([start_date,end_date])\n",
        "if uselog:\n",
        "    ax1.set_yscale('log')\n",
        "    ax1.set_ylim([1e-1,1e4]) \n",
        "    ax1.yaxis.set_major_formatter(matplotlib.ticker.FormatStrFormatter(\"%.1f\"))\n",
        "    ax1.yaxis.grid(which=\"minor\", color='k', linestyle='-', linewidth=0.5, alpha=0.1)\n",
        "else:\n",
        "    ax1.set_ylim([0,2000])\n",
        "    ax1.grid(**{'ls':'--', 'lw':0.3})\n",
        "\n",
        "\n",
        "ax1.set_title('Clear Creek')\n",
        "\n",
        "leg = ax1.legend(labels, loc='upper left', ncol=2)\n",
        "leg.set_frame_on(False)\n",
        "ax1.set_ylabel('[mm]')\n",
        "ax1.set_xlabel('')\n",
        "f.autofmt_xdate()\n",
        "plt.tight_layout()\n",
        "#plt.savefig('./figures/clearcreek_' + start_date + '_' + end_date + '.pdf')"
      ],
      "execution_count": null,
      "outputs": [
        {
          "output_type": "display_data",
          "data": {
            "image/png": "[encoded data removed]",
            "text/plain": [
              "<Figure size 468x288 with 1 Axes>"
            ]
          },
          "metadata": {
            "tags": [],
            "needs_background": "light"
          }
        }
      ]
    },
    {
      "cell_type": "code",
      "metadata": {
        "id": "IJKd1EfdTZhk",
        "colab": {
          "base_uri": "https://localhost:8080/",
          "height": 297
        },
        "outputId": "443400fd-f324-4acb-ef99-16206e0dadc1"
      },
      "source": [
        "#graphing storage only\n",
        "start_date = '10-2019'\n",
        "end_date = '4-2020'\n",
        "uselog = True\n",
        "f, (ax1) = plt.subplots(1,figsize=(6.5,4))\n",
        "labels = []\n",
        "df.indirect_storage.plot(style='--',linewidth=1.5, ax=ax1)\n",
        "labels.append('Indirect storage ($\\mathrm{S}_\\mathrm{i}$)')\n",
        "df.direct_storage.plot(linewidth=1.5, ax=ax1)\n",
        "labels.append('Direct storage ($\\mathrm{S}_\\mathrm{d}$)')\n",
        "df.total.plot(linewidth=1.5, ax=ax1, alpha=0.3)\n",
        "labels.append('Total ($\\mathrm{S}_\\mathrm{T}$)')\n",
        "\n",
        "ax1.set_xlim([start_date,end_date])\n",
        "if uselog:\n",
        "    ax1.set_yscale('log')\n",
        "    ax1.set_ylim([1e-1,1e4])\n",
        "    ax1.yaxis.set_major_formatter(matplotlib.ticker.FormatStrFormatter(\"%.1f\"))\n",
        "    ax1.yaxis.grid(which=\"minor\", color='k', linestyle='-', linewidth=0.5, alpha=0.1)\n",
        "else:\n",
        "    ax1.set_ylim([0,2000])\n",
        "    ax1.grid(**{'ls':'--', 'lw':0.3})\n",
        "\n",
        "\n",
        "ax1.set_title('Clear Creek')\n",
        "\n",
        "leg = ax1.legend(labels, loc='upper left', ncol=2)\n",
        "leg.set_frame_on(False)\n",
        "ax1.set_ylabel('[mm]')\n",
        "ax1.set_xlabel('')\n",
        "f.autofmt_xdate()\n",
        "plt.tight_layout()\n",
        "#plt.savefig('./figures/clearcreek_' + start_date + '_' + end_date + '.pdf')\n"
      ],
      "execution_count": null,
      "outputs": [
        {
          "output_type": "display_data",
          "data": {
            "image/png": "[encoded data removed]",
            "text/plain": [
              "<Figure size 468x288 with 1 Axes>"
            ]
          },
          "metadata": {
            "tags": [],
            "needs_background": "light"
          }
        }
      ]
    },
    {
      "cell_type": "code",
      "metadata": {
        "id": "XI6eHVL-WYiT",
        "colab": {
          "base_uri": "https://localhost:8080/",
          "height": 297
        },
        "outputId": "6851bba1-6971-4ef3-88f0-ae626800340d"
      },
      "source": [
        "#parsing out other factors\n",
        "start_date = '10-2017'\n",
        "end_date = '4-2020'\n",
        "uselog = True\n",
        "f, (ax1) = plt.subplots(1,figsize=(6.5,4))\n",
        "labels = []\n",
        "df.indirect_storage.plot(ax=ax1)\n",
        "labels.append('Indirect storage ($\\mathrm{S}_\\mathrm{i}$)')\n",
        "df.direct_storage.plot(linewidth=1.5, ax=ax1)\n",
        "labels.append('Direct storage ($\\mathrm{S}_\\mathrm{d}$)')\n",
        "#df.total.plot(linewidth=1.5, ax=ax1, alpha=0.3)\n",
        "#labels.append('Total ($\\mathrm{S}_\\mathrm{T}$)')\n",
        "\n",
        "#pcumulative = ppt.ppt.loc[start_date:end_date].cumsum()*dt*1000\n",
        "#qcumulative = df.q.loc[start_date:end_date].cumsum()*dt\n",
        "#pcumulative.plot(style=':', lw=1.5)\n",
        "#labels.append('$\\sum P$')\n",
        "#qcumulative.plot(style='-.', lw=1.5)\n",
        "#labels.append('$\\sum Q$')\n",
        "\n",
        "ax1.set_xlim([start_date,end_date])\n",
        "if uselog:\n",
        "    ax1.set_yscale('log')\n",
        "    ax1.set_ylim([1e-1,1e4]) \n",
        "    #ax1.yaxis.set_major_formatter(matplotlib.ticker.FormatStrFormatter(\"%.1f\"))\n",
        "    #ax1.yaxis.grid(which=\"minor\", color='k', linestyle='-', linewidth=0.5, alpha=0.1)\n",
        "else:\n",
        "    ax1.set_ylim([0,2000])\n",
        "    ax1.grid(**{'ls':'--', 'lw':0.3})\n",
        "\n",
        "\n",
        "ax1.set_title('Clear Creek')\n",
        "\n",
        "leg = ax1.legend(labels, loc='upper left', ncol=2)\n",
        "leg.set_frame_on(False)\n",
        "ax1.set_ylabel('[mm]')\n",
        "ax1.set_xlabel('')\n",
        "f.autofmt_xdate()\n",
        "plt.tight_layout()\n",
        "\n"
      ],
      "execution_count": null,
      "outputs": [
        {
          "output_type": "display_data",
          "data": {
            "image/png": "[encoded data removed]",
            "text/plain": [
              "<Figure size 468x288 with 1 Axes>"
            ]
          },
          "metadata": {
            "tags": [],
            "needs_background": "light"
          }
        }
      ]
    },
    {
      "cell_type": "code",
      "metadata": {
        "id": "T6veYyT26Ecd",
        "colab": {
          "base_uri": "https://localhost:8080/",
          "height": 302
        },
        "outputId": "d9ed86d9-7cdf-47c2-b927-badee67341da"
      },
      "source": [
        "import seaborn as sns\n",
        "start_date = '10-2017'\n",
        "end_date = '4-2018'\n",
        "uselog = True\n",
        "f, (ax1) = plt.subplots(1,figsize=(6.5,4))\n",
        "labels = []\n",
        "years = range(2014,2015)\n",
        "pal = sns.color_palette(\"hls\", len(years))\n",
        "\n",
        "pcumulative = ppt.ppt.loc[start_date:end_date].cumsum()*dt*1000\n",
        "\n",
        "\n",
        "\n",
        "for i,year in enumerate(years):\n",
        "    start_date = '10-' + str(year)\n",
        "    end_date = '4-' + str(year+1)\n",
        "    instorage = df.loc[start_date:end_date].indirect_storage.values\n",
        "    dstorage =  df.loc[start_date:end_date].direct_storage.values\n",
        "    plt.scatter(dstorage, instorage,c=pal[i])\n"
      ],
      "execution_count": null,
      "outputs": [
        {
          "output_type": "stream",
          "text": [
            "*c* argument looks like a single numeric RGB or RGBA sequence, which should be avoided as value-mapping will have precedence in case its length matches with *x* & *y*.  Please use the *color* keyword-argument or provide a 2-D array with a single row if you intend to specify the same RGB or RGBA value for all points.\n"
          ],
          "name": "stderr"
        },
        {
          "output_type": "display_data",
          "data": {
            "image/png": "[encoded data removed]",
            "text/plain": [
              "<Figure size 468x288 with 1 Axes>"
            ]
          },
          "metadata": {
            "tags": [],
            "needs_background": "light"
          }
        }
      ]
    },
    {
      "cell_type": "code",
      "metadata": {
        "id": "31yyYEyt7Kqu",
        "colab": {
          "base_uri": "https://localhost:8080/",
          "height": 284
        },
        "outputId": "10eb66a5-ace7-41d2-9145-0224d48b6c12"
      },
      "source": [
        "import seaborn as sns\n",
        "start_date = '10-2017'\n",
        "end_date = '4-2018'\n",
        "uselog = True\n",
        "f, (ax1) = plt.subplots(1,figsize=(6.5,4))\n",
        "labels = []\n",
        "years = range(2014,2015)\n",
        "pal = sns.color_palette(\"hls\", len(years))\n",
        "\n",
        "pcumulative = ppt.ppt.loc[start_date:end_date].cumsum()*dt*1000\n",
        "\n",
        "instorage = df.loc[start_date:end_date].indirect_storage.values\n",
        "dstorage =  df.loc[start_date:end_date].direct_storage.values\n",
        "plt.scatter(dstorage, instorage,c=pcumulative.values)\n",
        "plt.colorbar()"
      ],
      "execution_count": null,
      "outputs": [
        {
          "output_type": "execute_result",
          "data": {
            "text/plain": [
              "<matplotlib.colorbar.Colorbar at 0x7f9534bcff28>"
            ]
          },
          "metadata": {
            "tags": []
          },
          "execution_count": 38
        },
        {
          "output_type": "display_data",
          "data": {
            "image/png": "[encoded data removed]",
            "text/plain": [
              "<Figure size 468x288 with 2 Axes>"
            ]
          },
          "metadata": {
            "tags": [],
            "needs_background": "light"
          }
        }
      ]
    },
    {
      "cell_type": "code",
      "metadata": {
        "id": "F8_HIUN97Sy4",
        "colab": {
          "base_uri": "https://localhost:8080/"
        },
        "outputId": "e561a89e-5f8d-4510-fb2d-53c938869d4b"
      },
      "source": [
        "idx = (df.index.month>=12)|(df.index.month<=2)\n",
        "ismean = df.indirect_storage.loc[idx].mean()\n",
        "isstd = np.std(df.indirect_storage.loc[idx])\n",
        "iscv = isstd/ismean\n",
        "dsmean = df.direct_storage.loc[idx].mean()\n",
        "dsstd = np.std(df.direct_storage.loc[idx])\n",
        "dscv = dsstd/dsmean\n",
        "printstr = 'All winter months: indirect storage mean = %.2f pm %.2f, cv = %.2f; direct mean = %.2f, cv = %.2f'%(ismean, isstd, iscv, dsmean, dscv)\n",
        "print(printstr)"
      ],
      "execution_count": null,
      "outputs": [
        {
          "output_type": "stream",
          "text": [
            "All winter months: indirect storage mean = 289.18 pm 226.92, cv = 0.78; direct mean = 29.62, cv = 0.89\n"
          ],
          "name": "stdout"
        }
      ]
    },
    {
      "cell_type": "code",
      "metadata": {
        "id": "yWyrY8hc7T_e",
        "colab": {
          "base_uri": "https://localhost:8080/",
          "height": 298
        },
        "outputId": "11902287-b142-4d3f-cb4e-a5474682ff7a"
      },
      "source": [
        "d = pd.DataFrame({'Annual maximum':annualmax_direct[:-1], 'Year':maxyears[:-1]})\n",
        "f = plt.figure(figsize=(5,4.5))\n",
        "themean = 10*round(d['Annual maximum'].mean()/10.0)\n",
        "upper = 10*round(np.std(d['Annual maximum'])/10.0)+themean\n",
        "lower = -10*round(np.std(d['Annual maximum'])/10.0)+themean\n",
        "legstr = r'Mean ($\\mu - \\sigma$, $\\mu+\\sigma$) $\\approx$'\n",
        "legstr +=  ' %.0f (%.0f, %.0f)'%(themean,lower,upper)\n",
        "plt.plot([-2,12],[themean,themean],label=legstr,c='C1',lw=2)\n",
        "h = plt.bar(range(len(d.Year)), d['Annual maximum'], width=0.2)\n",
        "plt.subplots_adjust(bottom=0.3)\n",
        "xticks_pos = [0.5*patch.get_width() + patch.get_xy()[0] for patch in h]\n",
        "plt.xticks(xticks_pos, maxyears,  ha='right', rotation=45)\n",
        "\n",
        "plt.ylabel('mm')\n",
        "leg = plt.legend(loc='upper-left')\n",
        "leg.set_frame_on(False)\n",
        "plt.axhspan(lower,upper,color='k',alpha=0.1)\n",
        "\n",
        "plt.xlim([-.6,7.6])\n",
        "plt.ylim([0,600])\n",
        "plt.title('Direct storage max by water year (Clear Creek)')\n",
        "plt.xlabel('Water year')\n"
      ],
      "execution_count": null,
      "outputs": [
        {
          "output_type": "execute_result",
          "data": {
            "text/plain": [
              "Text(0.5, 0, 'Water year')"
            ]
          },
          "metadata": {
            "tags": []
          },
          "execution_count": 40
        },
        {
          "output_type": "display_data",
          "data": {
            "image/png": "[encoded data removed]",
            "text/plain": [
              "<Figure size 360x324 with 1 Axes>"
            ]
          },
          "metadata": {
            "tags": [],
            "needs_background": "light"
          }
        }
      ]
    },
    {
      "cell_type": "code",
      "metadata": {
        "id": "CgqggSHl7dpa",
        "colab": {
          "base_uri": "https://localhost:8080/",
          "height": 298
        },
        "outputId": "095811a0-589f-4cc3-c4fb-1e4006d6b389"
      },
      "source": [
        "d = pd.DataFrame({'Annual maximum':annualmax_indirect[:-1], 'Year':maxyears[:-1]})\n",
        "f = plt.figure(figsize=(5,4.5))\n",
        "themean = 10*round(d['Annual maximum'].mean()/10.0)\n",
        "upper = 10*round(np.std(d['Annual maximum'])/10.0)+themean\n",
        "lower = -10*round(np.std(d['Annual maximum'])/10.0)+themean\n",
        "legstr = r'Mean ($\\mu - \\sigma$, $\\mu+\\sigma$) $\\approx$'\n",
        "legstr +=  ' %.0f (%.0f, %.0f)'%(themean,lower,upper)\n",
        "plt.plot([-2,12],[themean,themean],label=legstr,c='C1',lw=2)\n",
        "h = plt.bar(range(len(d.Year)), d['Annual maximum'], width=0.2)\n",
        "plt.subplots_adjust(bottom=0.3)\n",
        "xticks_pos = [0.5*patch.get_width() + patch.get_xy()[0] for patch in h]\n",
        "plt.xticks(xticks_pos, maxyears,  ha='right', rotation=45)\n",
        "\n",
        "plt.ylabel('mm')\n",
        "leg = plt.legend(loc='upper-left')\n",
        "leg.set_frame_on(False)\n",
        "plt.axhspan(lower,upper,color='k',alpha=0.1)\n",
        "\n",
        "plt.xlim([-.6,7.6])\n",
        "#plt.ylim([0,600])\n",
        "plt.title('Indirect storage max by water year (Clear Creek)')\n",
        "plt.xlabel('Water year')\n",
        "\n",
        "#plt.savefig('./figures/clearcreek.pdf')"
      ],
      "execution_count": null,
      "outputs": [
        {
          "output_type": "execute_result",
          "data": {
            "text/plain": [
              "Text(0.5, 0, 'Water year')"
            ]
          },
          "metadata": {
            "tags": []
          },
          "execution_count": 41
        },
        {
          "output_type": "display_data",
          "data": {
            "image/png": "[encoded data removed]",
            "text/plain": [
              "<Figure size 360x324 with 1 Axes>"
            ]
          },
          "metadata": {
            "tags": [],
            "needs_background": "light"
          }
        }
      ]
    },
    {
      "cell_type": "code",
      "metadata": {
        "id": "padXjmri-Pcl",
        "colab": {
          "base_uri": "https://localhost:8080/",
          "height": 416
        },
        "outputId": "78dcc1db-5e62-411b-ed3e-2479e19e9f15"
      },
      "source": [
        "fig, (ax) = plt.subplots(1,figsize=(6.5,6))\n",
        "start_date = '10-2017'\n",
        "end_date = '1-09-2018'\n",
        "indirect = df.indirect_storage.loc[start_date:end_date].values\n",
        "direct = df.direct_storage.loc[start_date:end_date].values\n",
        "total = df.total.loc[start_date:end_date].values\n",
        "prcp = ppt.ppt.loc[start_date:end_date].cumsum().values*dt*1000\n",
        "dis = df.q.loc[start_date:end_date].cumsum().values*dt\n",
        "\n",
        "idx = df.loc[start_date:end_date].index.to_pydatetime()\n",
        "\n",
        "x0, y0i = idx[0], indirect[0]\n",
        "y0d = direct[0]\n",
        "y0t = total[0]\n",
        "y0p = prcp[0]\n",
        "y0q = dis[0]\n",
        "\n",
        "lp, = ax.plot(x0, y0p,':', label='Cumulative P', lw=2.5)\n",
        "lq, = ax.plot(x0, y0q,'-.', label='Cumulative Q', lw=2.5)\n",
        "# lt, = ax.plot(x0, y0t, label='Total storage',c='k',linewidth=1., alpha=0.3)\n",
        "li, = ax.plot(x0, y0i,'--', label='Indirect storage ($\\mathrm{S_i}$)',linewidth=2.5)\n",
        "ld, = ax.plot(x0, y0d, label='Direct storage ($\\mathrm{S_d}$)',linewidth=2.5)\n",
        "\n",
        "ai = ax.annotate('S$_i$', [idx[-1], indirect[-1]])\n",
        "ap = ax.annotate('$\\sum$ P', [idx[-1], prcp[-1]])\n",
        "aq = ax.annotate('$\\sum$ Q', [idx[-1], dis[-1]])\n",
        "ad = ax.annotate('S$_d$', [idx[-1], direct[-1]])\n",
        "\n",
        "uselog=False\n",
        "leg = ax.legend(loc='upper left', ncol=1, fontsize=14)\n",
        "if uselog==False:\n",
        "    ax.set_ylim([0,200]) \n",
        "else:\n",
        "    ax.set_yscale('log')\n",
        "    ax.set_ylim([1e-1,1e4])\n",
        "\n",
        "ax.set_title('Clear Creek')\n",
        "ax.grid(axis='y', **{'ls':'--', 'lw':0.3})\n",
        "leg.set_frame_on(False)\n",
        "ax.set_xlim([idx[0], idx[-1]+datetime.timedelta(days=10)])\n",
        "ax.set_ylabel('[mm]')\n",
        "ticks = [idx[10], idx[-1]]\n",
        "ax.set_xticks(ticks)\n",
        "labels = [ticks[i].strftime('%b-%Y') for i in range(len(ticks))]\n",
        "ax.set_xticklabels(labels, fontsize=12)\n",
        "plt.xticks(rotation=0)\n",
        "fig.tight_layout()\n",
        "\n",
        "# with writer.saving(fig, \"./figures/clearcreek_video.mp4\", 200):\n",
        "for i in range(1,len(indirect)):\n",
        "    y0i = (indirect[:i])\n",
        "    y0d = (direct[:i])\n",
        "    y0t = (total[:i])\n",
        "    y0p = prcp[:i]\n",
        "    y0q = dis[:i]\n",
        "\n",
        "    x0 = (idx[:i])\n",
        "\n",
        "    li.set_data(x0, y0i)\n",
        "    ld.set_data(x0, y0d)\n",
        "#     lt.set_data(x0, y0t)\n",
        "    lp.set_data(x0, y0p)\n",
        "    lq.set_data(x0, y0q)\n",
        "\n",
        "    ai.remove()\n",
        "    ap.remove()\n",
        "    aq.remove()\n",
        "    ad.remove()\n",
        "    ap = ax.annotate('$\\sum$ P', [x0[-1], y0p[-1]], fontsize=12)\n",
        "    aq = ax.annotate('$\\sum$ Q', [x0[-1], y0q[-1]], fontsize=12)\n",
        "    ad = ax.annotate('S$_d$', [x0[-1], y0d[-1]], fontsize=18)\n",
        "    ai = ax.annotate('S$_i$', [x0[-1], y0i[-1]], fontsize=18)"
      ],
      "execution_count": null,
      "outputs": [
        {
          "output_type": "display_data",
          "data": {
            "image/png": "[encoded data removed]",
            "text/plain": [
              "<Figure size 468x432 with 1 Axes>"
            ]
          },
          "metadata": {
            "tags": [],
            "needs_background": "light"
          }
        }
      ]
    }
  ]
}